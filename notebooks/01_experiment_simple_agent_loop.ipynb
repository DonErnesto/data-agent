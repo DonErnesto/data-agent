{
  "nbformat": 4,
  "nbformat_minor": 0,
  "metadata": {
    "colab": {
      "provenance": [],
      "include_colab_link": true
    },
    "kernelspec": {
      "name": "python3",
      "display_name": "Python 3"
    },
    "language_info": {
      "name": "python"
    }
  },
  "cells": [
    {
      "cell_type": "markdown",
      "metadata": {
        "id": "view-in-github",
        "colab_type": "text"
      },
      "source": [
        "<a href=\"https://colab.research.google.com/github/DonErnesto/data-agent/blob/master/notebooks/01_experiment_simple_agent_loop.ipynb\" target=\"_parent\"><img src=\"https://colab.research.google.com/assets/colab-badge.svg\" alt=\"Open In Colab\"/></a>"
      ]
    },
    {
      "cell_type": "code",
      "source": [
        "!!pip install litellm\n",
        "\n",
        "# Important!!!\n",
        "#\n",
        "# <---- Set your 'OPENAI_API_KEY' as a secret over there with the \"key\" icon\n",
        "#\n",
        "#\n",
        "import os\n",
        "import pandas as pd\n",
        "from google.colab import userdata\n",
        "api_key = userdata.get('OPENAI_API_KEY')\n",
        "os.environ['OPENAI_API_KEY'] = api_key"
      ],
      "metadata": {
        "id": "KEYrzG2vB8Ip"
      },
      "execution_count": 3,
      "outputs": []
    },
    {
      "cell_type": "code",
      "source": [
        "os.listdir('sample_data')"
      ],
      "metadata": {
        "colab": {
          "base_uri": "https://localhost:8080/",
          "height": 0
        },
        "id": "6yVJ93AhUMQj",
        "outputId": "3052d9b7-55f6-4c1d-bcba-cfda02abf69b"
      },
      "execution_count": 4,
      "outputs": [
        {
          "output_type": "execute_result",
          "data": {
            "text/plain": [
              "['anscombe.json',\n",
              " 'README.md',\n",
              " 'mnist_test.csv',\n",
              " 'mnist_train_small.csv',\n",
              " 'california_housing_train.csv',\n",
              " 'california_housing_test.csv']"
            ]
          },
          "metadata": {},
          "execution_count": 4
        }
      ]
    },
    {
      "cell_type": "code",
      "source": [
        "\n"
      ],
      "metadata": {
        "id": "v8ntEe-FUfX5"
      },
      "execution_count": null,
      "outputs": []
    },
    {
      "cell_type": "code",
      "source": [],
      "metadata": {
        "id": "dtYsk1DxUfbI"
      },
      "execution_count": 5,
      "outputs": []
    },
    {
      "cell_type": "code",
      "source": [],
      "metadata": {
        "id": "UlbZqPNVUMtz"
      },
      "execution_count": 6,
      "outputs": []
    },
    {
      "cell_type": "code",
      "source": [
        "df.dtypes"
      ],
      "metadata": {
        "colab": {
          "base_uri": "https://localhost:8080/",
          "height": 366
        },
        "id": "-bg1CsW5VQ6N",
        "outputId": "91ba930b-5e75-42d4-e200-6f06b280c28b"
      },
      "execution_count": 9,
      "outputs": [
        {
          "output_type": "execute_result",
          "data": {
            "text/plain": [
              "longitude             float64\n",
              "latitude              float64\n",
              "housing_median_age    float64\n",
              "total_rooms           float64\n",
              "total_bedrooms        float64\n",
              "population            float64\n",
              "households            float64\n",
              "median_income         float64\n",
              "median_house_value    float64\n",
              "dtype: object"
            ],
            "text/html": [
              "<div>\n",
              "<style scoped>\n",
              "    .dataframe tbody tr th:only-of-type {\n",
              "        vertical-align: middle;\n",
              "    }\n",
              "\n",
              "    .dataframe tbody tr th {\n",
              "        vertical-align: top;\n",
              "    }\n",
              "\n",
              "    .dataframe thead th {\n",
              "        text-align: right;\n",
              "    }\n",
              "</style>\n",
              "<table border=\"1\" class=\"dataframe\">\n",
              "  <thead>\n",
              "    <tr style=\"text-align: right;\">\n",
              "      <th></th>\n",
              "      <th>0</th>\n",
              "    </tr>\n",
              "  </thead>\n",
              "  <tbody>\n",
              "    <tr>\n",
              "      <th>longitude</th>\n",
              "      <td>float64</td>\n",
              "    </tr>\n",
              "    <tr>\n",
              "      <th>latitude</th>\n",
              "      <td>float64</td>\n",
              "    </tr>\n",
              "    <tr>\n",
              "      <th>housing_median_age</th>\n",
              "      <td>float64</td>\n",
              "    </tr>\n",
              "    <tr>\n",
              "      <th>total_rooms</th>\n",
              "      <td>float64</td>\n",
              "    </tr>\n",
              "    <tr>\n",
              "      <th>total_bedrooms</th>\n",
              "      <td>float64</td>\n",
              "    </tr>\n",
              "    <tr>\n",
              "      <th>population</th>\n",
              "      <td>float64</td>\n",
              "    </tr>\n",
              "    <tr>\n",
              "      <th>households</th>\n",
              "      <td>float64</td>\n",
              "    </tr>\n",
              "    <tr>\n",
              "      <th>median_income</th>\n",
              "      <td>float64</td>\n",
              "    </tr>\n",
              "    <tr>\n",
              "      <th>median_house_value</th>\n",
              "      <td>float64</td>\n",
              "    </tr>\n",
              "  </tbody>\n",
              "</table>\n",
              "</div><br><label><b>dtype:</b> object</label>"
            ]
          },
          "metadata": {},
          "execution_count": 9
        }
      ]
    },
    {
      "cell_type": "code",
      "source": [
        "df.describe().to_string()"
      ],
      "metadata": {
        "colab": {
          "base_uri": "https://localhost:8080/",
          "height": 140
        },
        "id": "R_XvGSvsVQ9W",
        "outputId": "45a09448-84fb-4374-e51e-dba63fc3b189"
      },
      "execution_count": 13,
      "outputs": [
        {
          "output_type": "execute_result",
          "data": {
            "text/plain": [
              "'          longitude      latitude  housing_median_age   total_rooms  total_bedrooms    population    households  median_income  median_house_value\\ncount  17000.000000  17000.000000        17000.000000  17000.000000    17000.000000  17000.000000  17000.000000   17000.000000        17000.000000\\nmean    -119.562108     35.625225           28.589353   2643.664412      539.410824   1429.573941    501.221941       3.883578       207300.912353\\nstd        2.005166      2.137340           12.586937   2179.947071      421.499452   1147.852959    384.520841       1.908157       115983.764387\\nmin     -124.350000     32.540000            1.000000      2.000000        1.000000      3.000000      1.000000       0.499900        14999.000000\\n25%     -121.790000     33.930000           18.000000   1462.000000      297.000000    790.000000    282.000000       2.566375       119400.000000\\n50%     -118.490000     34.250000           29.000000   2127.000000      434.000000   1167.000000    409.000000       3.544600       180400.000000\\n75%     -118.000000     37.720000           37.000000   3151.250000      648.250000   1721.000000    605.250000       4.767000       265000.000000\\nmax     -114.310000     41.950000           52.000000  37937.000000     6445.000000  35682.000000   6082.000000      15.000100       500001.000000'"
            ],
            "application/vnd.google.colaboratory.intrinsic+json": {
              "type": "string"
            }
          },
          "metadata": {},
          "execution_count": 13
        }
      ]
    },
    {
      "cell_type": "code",
      "execution_count": 14,
      "metadata": {
        "colab": {
          "base_uri": "https://localhost:8080/"
        },
        "id": "Mwe2eeOQB0cC",
        "outputId": "18b6275a-bafc-498c-f10e-5fbabb330392"
      },
      "outputs": [
        {
          "output_type": "stream",
          "name": "stdout",
          "text": [
            "What would you like me to do? describe my dataframe\n",
            "Iteration 1\n",
            "    int. message.Executing: describe_dataframe with args {}\n",
            "    int. message. Result: {'result': '          longitude      latitude  housing_median_age   total_rooms  total_bedrooms    population    households  median_income  median_house_value\\ncount  17000.000000  17000.000000        17000.000000  17000.000000    17000.000000  17000.000000  17000.000000   17000.000000        17000.000000\\nmean    -119.562108     35.625225           28.589353   2643.664412      539.410824   1429.573941    501.221941       3.883578       207300.912353\\nstd        2.005166      2.137340           12.586937   2179.947071      421.499452   1147.852959    384.520841       1.908157       115983.764387\\nmin     -124.350000     32.540000            1.000000      2.000000        1.000000      3.000000      1.000000       0.499900        14999.000000\\n25%     -121.790000     33.930000           18.000000   1462.000000      297.000000    790.000000    282.000000       2.566375       119400.000000\\n50%     -118.490000     34.250000           29.000000   2127.000000      434.000000   1167.000000    409.000000       3.544600       180400.000000\\n75%     -118.000000     37.720000           37.000000   3151.250000      648.250000   1721.000000    605.250000       4.767000       265000.000000\\nmax     -114.310000     41.950000           52.000000  37937.000000     6445.000000  35682.000000   6082.000000      15.000100       500001.000000'}\n",
            "Iteration 2\n",
            "Response: The dataframe provides a comprehensive overview of housing-related data with the following columns: longitude, latitude, housing_median_age, total_rooms, total_bedrooms, population, households, median_income, and median_house_value.\n",
            "\n",
            "Here's a summary of the statistics:\n",
            "\n",
            "1. **Longitude and Latitude:**\n",
            "   - Average location is around longitude of -119.56 and latitude of 35.63.\n",
            "   - Longitude ranges from -124.35 to -114.31.\n",
            "   - Latitude ranges from 32.54 to 41.95.\n",
            "\n",
            "2. **Housing Median Age:**\n",
            "   - Average age is approximately 28.59 years.\n",
            "   - Ages range from 1 to 52 years.\n",
            "\n",
            "3. **Total Rooms and Bedrooms:**\n",
            "   - Average number of rooms is 2643.66, with total rooms ranging from 2 to 37937.\n",
            "   - Average number of bedrooms is 539.41, with a range from 1 to 6445.\n",
            "\n",
            "4. **Population and Households:**\n",
            "   - Average population is 1429.57, with a range from 3 to 35682.\n",
            "   - Average households is 501.22, with a range from 1 to 6082.\n",
            "\n",
            "5. **Median Income:**\n",
            "   - Average income is approximately 3.88, ranging from 0.5 to 15.\n",
            "\n",
            "6. **Median House Value:**\n",
            "   - Average house value is $207,300.91, with a range from $14,999 to $500,001.\n",
            "\n",
            "The dataframe provides a detailed view of the housing characteristics within the dataset, offering insights into typical housing configurations as well as income and house value statistics.\n"
          ]
        }
      ],
      "source": [
        "## Concrete use case: describing data interactively\n",
        "\n",
        "\"\"\"\n",
        "TO-DO's:\n",
        "- we don't want to see the results from pandas. We want to see how the LLM describes them\n",
        "- we don't want termination unless we explicitly ask for it.\n",
        "\n",
        "\"\"\"\n",
        "\n",
        "import json\n",
        "import os\n",
        "from typing import List\n",
        "\n",
        "from litellm import completion\n",
        "\n",
        "def describe_dataframe() -> str:\n",
        "    \"\"\"Describe the contents of a pandas DataFrame.\"\"\"\n",
        "    return df.describe().to_string()\n",
        "\n",
        "def list_column_names_of_dataframe() -> List[str]:\n",
        "    \"\"\"List column names of a pandas DataFrame.\"\"\"\n",
        "    return list(df.columns)\n",
        "\n",
        "def show_datatype_of_column(column_name: str) -> str:\n",
        "    \"\"\"Show the datatype of a column in a pandas DataFrame.\"\"\"\n",
        "    return str(df[column_name].dtype)\n",
        "\n",
        "def describe_column(column_name: str) -> str:\n",
        "    \"\"\"Describe the contents of a column in a pandas DataFrame.\"\"\"\n",
        "    return df[column_name].describe().to_string()\n",
        "\n",
        "def translate_pd_to_human(message) -> None:\n",
        "    \"\"\" Translate the pandas results into a human-readable text.\n",
        "    This will terminate the loop.\n",
        "    \"\"\"\n",
        "    print(f\"The pandas results can be described as follows: {message}\")\n",
        "\n",
        "\n",
        "tool_functions = {\n",
        "    \"list_column_names_of_dataframe\": list_column_names_of_dataframe,\n",
        "    \"describe_dataframe\": describe_dataframe,\n",
        "    \"show_datatype_of_column\": show_datatype_of_column,\n",
        "    \"describe_column\": describe_column,\n",
        "    \"translate_pd_to_human\": translate_pd_to_human,\n",
        "}\n",
        "\n",
        "tools = [\n",
        "    {\n",
        "        \"type\": \"function\",\n",
        "        \"function\": {\n",
        "            \"name\": \"describe_dataframe\",\n",
        "            \"description\": \"Describe the contents of a pandas DataFrame.\",\n",
        "            \"parameters\": {\"type\": \"object\", \"properties\": {}, \"required\": []}\n",
        "        }\n",
        "    },\n",
        "    {\n",
        "        \"type\": \"function\",\n",
        "        \"function\": {\n",
        "            \"name\": \"list_column_names_of_dataframe\",\n",
        "            \"description\": \"List column names of a pandas DataFrame.\",\n",
        "            \"parameters\": {\"type\": \"object\", \"properties\": {}, \"required\": []}\n",
        "        }\n",
        "    },\n",
        "  {\n",
        "      \"type\": \"function\",\n",
        "      \"function\": {\n",
        "          \"name\": \"show_datatype_of_column\",\n",
        "          \"description\": \"Show the datatype of a column in a pandas DataFrame.\",\n",
        "          \"parameters\": {\n",
        "              \"type\": \"object\",\n",
        "              \"properties\": {\n",
        "                  \"column_name\": {\n",
        "                      \"type\": \"string\",\n",
        "                      \"description\": \"The name of the column to show the datatype of.\"\n",
        "                  }\n",
        "              },\n",
        "              \"required\": [\"column_name\"]\n",
        "          }\n",
        "        }\n",
        "    },\n",
        "    {\n",
        "        \"type\": \"function\",\n",
        "        \"function\": {\n",
        "            \"name\": \"describe_column\",\n",
        "            \"description\": \"Describe the contents of a column in a pandas DataFrame.\",\n",
        "            \"parameters\": {\n",
        "                \"type\": \"object\",\n",
        "                \"properties\": {\n",
        "                    \"column_name\": {\n",
        "                        \"type\": \"string\",\n",
        "                        \"description\": \"The name of the column to describe.\"\n",
        "                    }\n",
        "                },\n",
        "                \"required\": [\"column_name\"]\n",
        "            }\n",
        "        }\n",
        "    },\n",
        "    {\n",
        "        \"type\": \"function\",\n",
        "        \"function\": {\n",
        "            \"name\": \"terminate\",\n",
        "            \"description\": \"Terminates the conversation. No further actions or interactions are possible after this. Prints the provided message for the user.\",\n",
        "            \"parameters\": {\n",
        "                \"type\": \"object\",\n",
        "                \"properties\": {\n",
        "                    \"message\": {\"type\": \"string\"},\n",
        "                },\n",
        "                \"required\": [\"message\"]\n",
        "            }\n",
        "        }\n",
        "    }\n",
        "]\n",
        "\n",
        "agent_rules = [{\n",
        "    \"role\": \"system\",\n",
        "    \"content\": \"\"\"\n",
        "You are an AI agent that can perform tasks by using available tools.\n",
        "\n",
        "If a user asks questions about the characteristics of a dataframe, its columns or its data,\n",
        "execute the right pandas tool to obtain these results.\n",
        "When the desired results are obtained, provide a human-interpretable summary of the results using the \"terminate\" tool.\n",
        "\"\"\"\n",
        "}]\n",
        "\n",
        "# Initialize agent parameters\n",
        "iterations = 0\n",
        "max_iterations = 10\n",
        "\n",
        "user_task = input(\"What would you like me to do? \")\n",
        "\n",
        "memory = [{\"role\": \"user\", \"content\": user_task}]\n",
        "\n",
        "df = pd.read_csv('sample_data/california_housing_train.csv')\n",
        "\n",
        "# The Agent Loop\n",
        "while iterations < max_iterations:\n",
        "    iterations += 1\n",
        "    print(f\"Iteration {iterations}\")\n",
        "\n",
        "    messages = agent_rules + memory\n",
        "\n",
        "    response = completion(\n",
        "        model=\"openai/gpt-4o\",\n",
        "        messages=messages,\n",
        "        tools=tools,\n",
        "        max_tokens=1024\n",
        "    )\n",
        "\n",
        "    if response.choices[0].message.tool_calls:\n",
        "        tool = response.choices[0].message.tool_calls[0]\n",
        "        tool_name = tool.function.name\n",
        "        tool_args = json.loads(tool.function.arguments)\n",
        "\n",
        "        action = {\n",
        "            \"tool_name\": tool_name,\n",
        "            \"args\": tool_args\n",
        "        }\n",
        "\n",
        "        if tool_name == \"terminate\":\n",
        "            print(f\"Termination message: {tool_args['message']}\")\n",
        "            break\n",
        "        elif tool_name in tool_functions:\n",
        "            try:\n",
        "                result = {\"result\": tool_functions[tool_name](**tool_args)}\n",
        "            except Exception as e:\n",
        "                result = {\"error\":f\"Error executing {tool_name}: {str(e)}\"}\n",
        "        else:\n",
        "            result = {\"error\": f\"Unknown tool: {tool_name}\"}\n",
        "\n",
        "        print(f\"    int. message.Executing: {tool_name} with args {tool_args}\")\n",
        "        print(f\"    int. message. Result: {result}\")\n",
        "        memory.extend([\n",
        "            {\"role\": \"assistant\", \"content\": json.dumps(action)},\n",
        "            {\"role\": \"user\", \"content\": json.dumps(result)}\n",
        "        ])\n",
        "    else:\n",
        "        result = response.choices[0].message.content\n",
        "        print(f\"Response: {result}\")\n",
        "        break"
      ]
    },
    {
      "cell_type": "code",
      "source": [
        "memory"
      ],
      "metadata": {
        "colab": {
          "base_uri": "https://localhost:8080/"
        },
        "id": "9sTu0768c1rP",
        "outputId": "5b0e9ad4-f17a-4f0b-b50b-20529c09c5b7"
      },
      "execution_count": 12,
      "outputs": [
        {
          "output_type": "execute_result",
          "data": {
            "text/plain": [
              "[{'role': 'user', 'content': 'describe my dataframe'},\n",
              " {'role': 'assistant',\n",
              "  'content': '{\"tool_name\": \"describe_dataframe\", \"args\": {}}'},\n",
              " {'role': 'user',\n",
              "  'content': '{\"result\": \"          longitude      latitude  housing_median_age   total_rooms  total_bedrooms    population    households  median_income  median_house_value\\\\ncount  17000.000000  17000.000000        17000.000000  17000.000000    17000.000000  17000.000000  17000.000000   17000.000000        17000.000000\\\\nmean    -119.562108     35.625225           28.589353   2643.664412      539.410824   1429.573941    501.221941       3.883578       207300.912353\\\\nstd        2.005166      2.137340           12.586937   2179.947071      421.499452   1147.852959    384.520841       1.908157       115983.764387\\\\nmin     -124.350000     32.540000            1.000000      2.000000        1.000000      3.000000      1.000000       0.499900        14999.000000\\\\n25%     -121.790000     33.930000           18.000000   1462.000000      297.000000    790.000000    282.000000       2.566375       119400.000000\\\\n50%     -118.490000     34.250000           29.000000   2127.000000      434.000000   1167.000000    409.000000       3.544600       180400.000000\\\\n75%     -118.000000     37.720000           37.000000   3151.250000      648.250000   1721.000000    605.250000       4.767000       265000.000000\\\\nmax     -114.310000     41.950000           52.000000  37937.000000     6445.000000  35682.000000   6082.000000      15.000100       500001.000000\"}'}]"
            ]
          },
          "metadata": {},
          "execution_count": 12
        }
      ]
    }
  ]
}